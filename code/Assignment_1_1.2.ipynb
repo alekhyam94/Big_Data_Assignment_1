{
 "cells": [
  {
   "cell_type": "code",
   "execution_count": null,
   "metadata": {},
   "outputs": [],
   "source": [
    "import pickle\n",
    "import h5py\n",
    "import matplotlib\n",
    "%matplotlib inline\n",
    "import matplotlib.pyplot as plt\n",
    "import numpy as np\n",
    "import scipy\n",
    "import torch\n",
    "import torchvision\n",
    "import time\n",
    "\n",
    "from utils import *"
   ]
  },
  {
   "cell_type": "code",
   "execution_count": null,
   "metadata": {},
   "outputs": [],
   "source": [
    "# Set seeds for random generators for reproducability of results\n",
    "\n",
    "random_seed = 100\n",
    "torch.manual_seed(random_seed)\n",
    "np.random.seed(random_seed)"
   ]
  },
  {
   "cell_type": "markdown",
   "metadata": {},
   "source": [
    "# Dataset Preparation\n",
    "\n",
    "The cells below will load the data from downloaded CIFAR-10 dataset and extract 800 train images and 200 test images per each class. The last cell will show a sample of 5 images per each class."
   ]
  },
  {
   "cell_type": "code",
   "execution_count": null,
   "metadata": {},
   "outputs": [],
   "source": [
    "base_dir = '../data/cifar-10-batches-py/'\n",
    "data_train, labels_train = load_cifar_data([base_dir + 'data_batch_1', base_dir + 'data_batch_2', base_dir + 'data_batch_3'])\n",
    "data_test, labels_test = load_cifar_data([base_dir + 'test_batch'])\n",
    "\n",
    "train_indices = get_classwise_indices(labels_train)\n",
    "test_indices = get_classwise_indices(labels_test)\n",
    "\n",
    "train_data, train_labels = get_data_from_indices(data_train, train_indices, 800, (3,32,32))\n",
    "test_data, test_labels = get_data_from_indices(data_test, test_indices, 200, (3,32,32))\n",
    "\n",
    "labels = ['aiplane', 'automobile', 'bird', 'cat', 'deer', 'dog', 'frog', 'horse', 'ship', 'truck']\n",
    "\n",
    "train_loader = create_data_loader(train_data, train_labels, 40, True) \n",
    "test_loader = create_data_loader(test_data, test_labels, 40, False)\n",
    "\n",
    "show_classwise_images(train_data, train_labels, labels, 5)"
   ]
  },
  {
   "cell_type": "code",
   "execution_count": null,
   "metadata": {},
   "outputs": [],
   "source": [
    "# Download train and test data to computer to know data sizes\n",
    "\n",
    "np.save(\"../data/train_data/train_data\",train_data)\n",
    "np.save(\"../data/train_data/train_image\", train_data[0])\n",
    "np.save(\"../data/test_data/test_data\", test_data)\n",
    "np.save(\"../data/train_data/train_labels\", train_labels)\n",
    "np.save(\"../data/test_data/test_labels\", test_labels)"
   ]
  },
  {
   "cell_type": "markdown",
   "metadata": {},
   "source": [
    "# Model Definitions\n",
    "\n",
    "This section is used for defining all the models that will be used for this assignment. This section also prints the number trainable parameters for each model"
   ]
  },
  {
   "cell_type": "code",
   "execution_count": null,
   "metadata": {},
   "outputs": [],
   "source": [
    "resnet = torchvision.models.resnet18(num_classes=10)\n",
    "resnet34 = torchvision.models.resnet34(num_classes=10)\n",
    "densenet = torchvision.models.densenet121(num_classes=10)\n",
    "\n",
    "resnet_total_params = sum(p.numel() for p in resnet.parameters() if p.requires_grad)\n",
    "resnet34_total_params = sum(p.numel() for p in resnet34.parameters() if p.requires_grad)\n",
    "densenet_total_params = sum(p.numel() for p in densenet.parameters() if p.requires_grad)\n",
    "\n",
    "print(\"Total parameters in ResNet-18:\", resnet_total_params)\n",
    "print(\"Total parameters in ResNet-34:\", resnet34_total_params)\n",
    "print(\"Total parameters in Densenet:\", densenet_total_params)"
   ]
  },
  {
   "cell_type": "markdown",
   "metadata": {},
   "source": [
    "# Training 4 CNNs for comparison of results\n",
    "\n",
    "The below modules train 4 CNN classifiers and produce results like train, test time and accuracy, size of models in MB etc."
   ]
  },
  {
   "cell_type": "code",
   "execution_count": null,
   "metadata": {},
   "outputs": [],
   "source": [
    "num_epochs = 20\n",
    "learning_rate = 0.001"
   ]
  },
  {
   "cell_type": "code",
   "execution_count": null,
   "metadata": {},
   "outputs": [],
   "source": [
    "# Training baseline ResNet model\n",
    "resnet_train_acc, resnet_test_acc, resnet_train_losses = train_model(resnet, train_loader, test_loader, num_epochs=num_epochs, learning_rate=learning_rate, save_epochs=[5,8,10,15,20], model_name='resnet18')"
   ]
  },
  {
   "cell_type": "code",
   "execution_count": null,
   "metadata": {},
   "outputs": [],
   "source": [
    "print(\"Calculating Final Testing Accuracies:\")\n",
    "accuracy, time_taken = get_accuracies(test_loader, resnet)\n",
    "print(\"Time taken for testing on 2000 images:\", str(time_taken))\n",
    "print(\"Time taken for each image:\", str(time_taken / 2000))"
   ]
  },
  {
   "cell_type": "code",
   "execution_count": null,
   "metadata": {},
   "outputs": [],
   "source": [
    "# Training ResNet-34 model\n",
    "num_epochs = 5\n",
    "resnet34_train_acc, resnet34_test_acc, resnet34_train_losses = train_model(resnet34, train_loader, test_loader, num_epochs=num_epochs, learning_rate=learning_rate, save_epochs=[5], model_name='resnet34')\n",
    "\n",
    "print(\"Calculating Final Testing Accuracies:\")\n",
    "accuracy, time_taken = get_accuracies(test_loader, resnet34)\n",
    "print(\"Time taken for testing on 2000 images:\", str(time_taken))\n",
    "print(\"Time taken for each image:\", str(time_taken / 2000))"
   ]
  },
  {
   "cell_type": "code",
   "execution_count": null,
   "metadata": {},
   "outputs": [],
   "source": [
    "# Training DenseNet-121 model\n",
    "num_epochs = 5\n",
    "densenet_train_acc, densenet_test_acc, densenet_train_losses = train_model(densenet, train_loader, test_loader, num_epochs=num_epochs, learning_rate=learning_rate, save_epochs=[5], model_name='squeezenet')\n",
    "\n",
    "print(\"Calculating Final Testing Accuracies:\")\n",
    "accuracy, time_taken = get_accuracies(test_loader, outlier_densenet)\n",
    "print(\"Time taken for testing on 2000 images:\", str(time_taken))\n",
    "print(\"Time taken for each image:\", str(time_taken / 2000))"
   ]
  },
  {
   "cell_type": "code",
   "execution_count": null,
   "metadata": {},
   "outputs": [],
   "source": [
    "# resnet_train_acc = [33.275 , 41.1625, 45.2875, 52.3, 55.1125, 57.425, 63.9375, 65.8875, 75.525, 77.2375, 84.0125, 88.5125, 91.45, 88.9875, 91.7625, 94.7125, 95.4375, 97.2875, 95.3375, 97.0375]\n",
    "# resnet_test_acc = [32.45, 39.8, 42.05, 46.9, 47.0, 49.05, 50.7, 49.5, 52.1, 51.85, 51.5, 53.5, 51.5, 49.5, 50.75, 51.45, 50.0, 52.35, 50.9, 52.2]\n",
    "# resnet34_train_acc = [30.125, 16.825, 25.9625, 38.5375, 42.2]\n",
    "# resnet34_test_acc = [27.4, 16.95, 26.5, 37.85, 41.05]\n",
    "# densenet_train_acc = [21.675, 36.8375, 37.325, 42.025, 49.9875]\n",
    "# densenet_test_acc = [21.2, 35.65, 36.05, 39.45, 47.2]\n",
    "\n",
    "\n",
    "plot_values(np.arange(1,21), [resnet_train_acc, resnet_test_acc], \"Epoch\", \"Accuracy\", \"ResNet-18 Accuracy (20 epochs)\", [\"Train\", \"Test\"], \"resnet-16-20\")\n",
    "plot_values(np.arange(1,6), [resnet_train_acc[:5], resnet_test_acc[:5]], \"Epoch\", \"Accuracy\", \"ResNet-18 Accuracy (5 epochs)\", [\"Train\", \"Test\"], \"resnet-16-5\")\n",
    "plot_values(np.arange(1,9), [resnet_train_acc[:8], resnet_test_acc[:8]], \"Epoch\", \"Accuracy\", \"ResNet-18 Accuracy (8 epochs)\", [\"Train\", \"Test\"], \"resnet-16-8\")\n",
    "plot_values(np.arange(1,11), [resnet_train_acc[:10], resnet_test_acc[:10]], \"Epoch\", \"Accuracy\", \"ResNet-18 Accuracy (10 epochs)\", [\"Train\", \"Test\"], \"resnet-16-10\")\n",
    "plot_values(np.arange(1,16), [resnet_train_acc[:15], resnet_test_acc[:15]], \"Epoch\", \"Accuracy\", \"ResNet-18 Accuracy (15 epochs)\", [\"Train\", \"Test\"], \"resnet-16-15\")\n",
    "plot_values(np.arange(1,6), [resnet34_train_acc, resnet34_test_acc], \"Epoch\", \"Accuracy\", \"ResNet-34 Accuracy (5 epochs)\", [\"Train\", \"Test\"], \"resnet-34\")\n",
    "plot_values(np.arange(1,6), [densenet_train_acc, densenet_test_acc], \"Epoch\", \"Accuracy\", \"DenseNet Accuracy (5 epochs)\", [\"Train\", \"Test\"], \"DenseNet\")"
   ]
  },
  {
   "cell_type": "markdown",
   "metadata": {},
   "source": [
    "# Outlier Analysis\n",
    "\n",
    "This section extracts images from CIFAR-100 dataset and performs outlier analysis on these images"
   ]
  },
  {
   "cell_type": "code",
   "execution_count": null,
   "metadata": {},
   "outputs": [],
   "source": [
    "meta = unpickle('../data/cifar-100-python/meta')\n",
    "\n",
    "fine_label_names = [t.decode('utf8') for t in meta[b'fine_label_names']]\n",
    "cifar10_label_names = ['aiplane', 'automobile', 'bird', 'cat', 'deer', 'dog', 'frog', 'horse', 'ship', 'truck']\n",
    "\n",
    "train = unpickle('../data/cifar-100-python/train')\n",
    "\n",
    "filenames = [t.decode('utf8') for t in train[b'filenames']]\n",
    "fine_labels = train[b'fine_labels']\n",
    "data = train[b'data']\n",
    "\n",
    "outliers = []\n",
    "outlier_labels = []\n",
    "\n",
    "for idx, label in enumerate(fine_labels):\n",
    "    if fine_label_names[label] not in cifar10_label_names:\n",
    "        outliers.append(data[idx])\n",
    "        outlier_labels.append(label)\n",
    "    if(len(outliers) == 10):\n",
    "        break\n",
    "\n",
    "outliers = [np.reshape(image, (3,32,32)) for image in outliers]\n",
    "outliers_tensor = torch.stack([torch.Tensor(i) for i in outliers])\n",
    "outlier_label_names = [fine_label_names[label] for label in outlier_labels]\n",
    "\n",
    "imshow(torchvision.utils.make_grid(outliers_tensor, nrow=1), outlier_label_names, \"../data/outlier\")"
   ]
  },
  {
   "cell_type": "code",
   "execution_count": null,
   "metadata": {},
   "outputs": [],
   "source": [
    "# ResNet-18, 5 epochs\n",
    "\n",
    "outlier_resnet = torch.load(\"../data/models/resnet18_5\")\n",
    "outlier_analysis(outlier_resnet, outliers_tensor, outlier_label_names, cifar10_label_names)"
   ]
  },
  {
   "cell_type": "code",
   "execution_count": null,
   "metadata": {},
   "outputs": [],
   "source": [
    "# ResNet-18, 8 epochs\n",
    "\n",
    "outlier_resnet = torch.load(\"../data/models/resnet18_8\")\n",
    "outlier_analysis(outlier_resnet, outliers_tensor, outlier_label_names, cifar10_label_names)"
   ]
  },
  {
   "cell_type": "code",
   "execution_count": null,
   "metadata": {},
   "outputs": [],
   "source": [
    "# ResNet-18, 10 epochs\n",
    "\n",
    "outlier_resnet = torch.load(\"../data/models/resnet18_10\")\n",
    "outlier_analysis(outlier_resnet, outliers_tensor, outlier_label_names, cifar10_label_names)"
   ]
  },
  {
   "cell_type": "code",
   "execution_count": null,
   "metadata": {},
   "outputs": [],
   "source": [
    "# ResNet-18, 15 epochs\n",
    "\n",
    "outlier_resnet = torch.load(\"../data/models/resnet18_15\")\n",
    "outlier_analysis(outlier_resnet, outliers_tensor, outlier_label_names, cifar10_label_names)"
   ]
  },
  {
   "cell_type": "code",
   "execution_count": null,
   "metadata": {},
   "outputs": [],
   "source": [
    "# ResNet-18, 20 epochs\n",
    "\n",
    "outlier_resnet = torch.load(\"../data/models/resnet18_20\")\n",
    "outlier_analysis(outlier_resnet, outliers_tensor, outlier_label_names, cifar10_label_names)"
   ]
  },
  {
   "cell_type": "code",
   "execution_count": null,
   "metadata": {},
   "outputs": [],
   "source": [
    "# ResNet-34, 5 epochs\n",
    "\n",
    "outlier_resnet = torch.load(\"../data/models/resnet34_5\")\n",
    "outlier_analysis(outlier_resnet, outliers_tensor, outlier_label_names, cifar10_label_names)"
   ]
  },
  {
   "cell_type": "code",
   "execution_count": null,
   "metadata": {},
   "outputs": [],
   "source": [
    "# DenseNet, 5 epochs\n",
    "\n",
    "outlier_densenet = torch.load(\"../data/models/densenet_5\")\n",
    "outlier_analysis(outlier_densenet, outliers_tensor, outlier_label_names, cifar10_label_names)"
   ]
  }
 ],
 "metadata": {
  "kernelspec": {
   "display_name": "Python 3",
   "language": "python",
   "name": "python3"
  },
  "language_info": {
   "codemirror_mode": {
    "name": "ipython",
    "version": 3
   },
   "file_extension": ".py",
   "mimetype": "text/x-python",
   "name": "python",
   "nbconvert_exporter": "python",
   "pygments_lexer": "ipython3",
   "version": "3.6.9"
  }
 },
 "nbformat": 4,
 "nbformat_minor": 2
}
